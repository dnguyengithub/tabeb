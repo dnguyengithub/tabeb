{
 "cells": [
  {
   "cell_type": "markdown",
   "metadata": {
    "vscode": {
     "languageId": "plaintext"
    }
   },
   "source": [
    "# Oneshot import"
   ]
  },
  {
   "cell_type": "code",
   "execution_count": 1,
   "metadata": {},
   "outputs": [],
   "source": [
    "import os\n",
    "import numpy as np\n",
    "import pandas as pd\n",
    "import json\n",
    "from tabeb.interface import get_model, get_leaderboard\n",
    "from tabeb.tasks import TabEBRegressionTask, TabEBClassificationTask\n",
    "from sklearn.model_selection import GroupShuffleSplit\n",
    "ROOT_DIR = os.path.join(os.path.dirname(os.getcwd()), \"tabeb\")\n",
    "\n",
    "NUM_TRAIN = 16"
   ]
  },
  {
   "cell_type": "code",
   "execution_count": 2,
   "metadata": {},
   "outputs": [],
   "source": [
    "def load_data_tmp(data_name, data_dir):\n",
    "    df_data = pd.read_parquet(os.path.join(data_dir, data_name, f\"{data_name}.parquet\"))\n",
    "    df_data.fillna(value=np.nan, inplace=True)\n",
    "    with open(os.path.join(data_dir, data_name, f\"{data_name}_metadata.json\")) as f:\n",
    "        data_metadata = json.load(f)\n",
    "    return df_data, data_metadata\n",
    "\n",
    "def get_splits(data, data_metadata, num_train=NUM_TRAIN, random_state=42):\n",
    "    \"\"\"Set train/test split given the random state.\"\"\"\n",
    "    target_name = data_metadata[\"target_name\"]\n",
    "    if num_train is None:\n",
    "        num_train = int(len(data) * 0.8)\n",
    "    X = data.drop(columns=target_name)\n",
    "    y = data[target_name]\n",
    "    y = np.array(y)\n",
    "\n",
    "    if data_metadata.get(\"repeated\", False):\n",
    "        entity_name = data_metadata[\"entity_name\"]\n",
    "    else:\n",
    "        entity_name = np.arange(len(y))\n",
    "\n",
    "    groups = np.array(data.groupby(entity_name).ngroup())\n",
    "    num_groups = len(np.unique(groups))\n",
    "    gss = GroupShuffleSplit(\n",
    "        n_splits=1,\n",
    "        test_size=int(num_groups - num_train),\n",
    "        random_state=random_state,\n",
    "    )\n",
    "    idx_train, idx_test = next(iter(gss.split(X=y, groups=groups)))\n",
    "\n",
    "    X_train, X_test = X.iloc[idx_train], X.iloc[idx_test]\n",
    "    y_train, y_test = y[idx_train], y[idx_test]\n",
    "\n",
    "    return X_train, X_test, y_train, y_test"
   ]
  },
  {
   "cell_type": "markdown",
   "metadata": {},
   "source": [
    "# Data\n",
    "\n",
    "Load the toy datasets provided with the package"
   ]
  },
  {
   "cell_type": "code",
   "execution_count": 3,
   "metadata": {},
   "outputs": [
    {
     "name": "stdout",
     "output_type": "stream",
     "text": [
      "{'name': 'wine_pl', 'task': 'regression', 'target_name': 'price', 'entity_name': 'name', 'repeated': False, 'dtype': {'name': 'object', 'price': 'float64', 'country': 'object', 'region': 'object', 'winery': 'object', 'variety': 'object', 'alcohol': 'float64', 'acidity': 'float64', 'sugar': 'float64', 'ph': 'float64', 'sulphates': 'float64', 'quality': 'float64', 'rating': 'float64', 'taste': 'float64', 'color': 'object', 'type': 'object', 'vintage': 'int64', 'harvest': 'object', 'age': 'int64', 'temperature': 'float64', 'grape': 'object', 'food': 'object', 'description': 'object', 'image': 'object'}}\n"
     ]
    },
    {
     "data": {
      "text/html": [
       "<div>\n",
       "<style scoped>\n",
       "    .dataframe tbody tr th:only-of-type {\n",
       "        vertical-align: middle;\n",
       "    }\n",
       "\n",
       "    .dataframe tbody tr th {\n",
       "        vertical-align: top;\n",
       "    }\n",
       "\n",
       "    .dataframe thead th {\n",
       "        text-align: right;\n",
       "    }\n",
       "</style>\n",
       "<table border=\"1\" class=\"dataframe\">\n",
       "  <thead>\n",
       "    <tr style=\"text-align: right;\">\n",
       "      <th></th>\n",
       "      <th>name</th>\n",
       "      <th>price</th>\n",
       "      <th>country</th>\n",
       "      <th>region</th>\n",
       "      <th>appellation</th>\n",
       "      <th>vineyard</th>\n",
       "      <th>vintage</th>\n",
       "      <th>volume</th>\n",
       "      <th>ABV</th>\n",
       "      <th>serving_temperature</th>\n",
       "      <th>wine_type</th>\n",
       "      <th>taste</th>\n",
       "      <th>style</th>\n",
       "      <th>vegan</th>\n",
       "      <th>natural</th>\n",
       "      <th>grapes</th>\n",
       "    </tr>\n",
       "  </thead>\n",
       "  <tbody>\n",
       "    <tr>\n",
       "      <th>0</th>\n",
       "      <td>Szampan Moet &amp; Chandon Brut Imperial Magnum w ...</td>\n",
       "      <td>2.823474</td>\n",
       "      <td>France</td>\n",
       "      <td>Champagne</td>\n",
       "      <td>Champagne AOC</td>\n",
       "      <td>Moet &amp; Chandon</td>\n",
       "      <td>NaN</td>\n",
       "      <td>1500.0</td>\n",
       "      <td>NaN</td>\n",
       "      <td>9</td>\n",
       "      <td>NaN</td>\n",
       "      <td>dry</td>\n",
       "      <td>average</td>\n",
       "      <td>False</td>\n",
       "      <td>False</td>\n",
       "      <td>Chardonnay</td>\n",
       "    </tr>\n",
       "    <tr>\n",
       "      <th>1</th>\n",
       "      <td>11 Filari Primitivo di Manduria San Marzano</td>\n",
       "      <td>2.037426</td>\n",
       "      <td>Italy</td>\n",
       "      <td>Puglia</td>\n",
       "      <td>Primitivo di Manduria DOP</td>\n",
       "      <td>NaN</td>\n",
       "      <td>2017</td>\n",
       "      <td>500.0</td>\n",
       "      <td>17.5</td>\n",
       "      <td>18</td>\n",
       "      <td>red</td>\n",
       "      <td>sweet</td>\n",
       "      <td>full</td>\n",
       "      <td>False</td>\n",
       "      <td>False</td>\n",
       "      <td>Primitivo</td>\n",
       "    </tr>\n",
       "    <tr>\n",
       "      <th>2</th>\n",
       "      <td>Szampan Moet &amp; Chandon Brut Imperial Jeroboam ...</td>\n",
       "      <td>3.300813</td>\n",
       "      <td>France</td>\n",
       "      <td>Champagne</td>\n",
       "      <td>Champagne AOC</td>\n",
       "      <td>Moet &amp; Chandon</td>\n",
       "      <td>NaN</td>\n",
       "      <td>3000.0</td>\n",
       "      <td>NaN</td>\n",
       "      <td>9</td>\n",
       "      <td>NaN</td>\n",
       "      <td>dry</td>\n",
       "      <td>average</td>\n",
       "      <td>False</td>\n",
       "      <td>False</td>\n",
       "      <td>Chardonnay</td>\n",
       "    </tr>\n",
       "  </tbody>\n",
       "</table>\n",
       "</div>"
      ],
      "text/plain": [
       "                                                name     price country  \\\n",
       "0  Szampan Moet & Chandon Brut Imperial Magnum w ...  2.823474  France   \n",
       "1        11 Filari Primitivo di Manduria San Marzano  2.037426   Italy   \n",
       "2  Szampan Moet & Chandon Brut Imperial Jeroboam ...  3.300813  France   \n",
       "\n",
       "      region                appellation        vineyard vintage  volume   ABV  \\\n",
       "0  Champagne              Champagne AOC  Moet & Chandon     NaN  1500.0   NaN   \n",
       "1     Puglia  Primitivo di Manduria DOP             NaN    2017   500.0  17.5   \n",
       "2  Champagne              Champagne AOC  Moet & Chandon     NaN  3000.0   NaN   \n",
       "\n",
       "  serving_temperature wine_type  taste    style  vegan natural      grapes  \n",
       "0                   9       NaN    dry  average  False   False  Chardonnay  \n",
       "1                  18       red  sweet     full  False   False   Primitivo  \n",
       "2                   9       NaN    dry  average  False   False  Chardonnay  "
      ]
     },
     "metadata": {},
     "output_type": "display_data"
    },
    {
     "name": "stdout",
     "output_type": "stream",
     "text": [
      "\n",
      "{'name': 'wine_vivino_price', 'task': 'regression', 'target_name': 'Price', 'entity_name': 'Name', 'repeated': False}\n"
     ]
    },
    {
     "data": {
      "text/html": [
       "<div>\n",
       "<style scoped>\n",
       "    .dataframe tbody tr th:only-of-type {\n",
       "        vertical-align: middle;\n",
       "    }\n",
       "\n",
       "    .dataframe tbody tr th {\n",
       "        vertical-align: top;\n",
       "    }\n",
       "\n",
       "    .dataframe thead th {\n",
       "        text-align: right;\n",
       "    }\n",
       "</style>\n",
       "<table border=\"1\" class=\"dataframe\">\n",
       "  <thead>\n",
       "    <tr style=\"text-align: right;\">\n",
       "      <th></th>\n",
       "      <th>Name</th>\n",
       "      <th>Region</th>\n",
       "      <th>Winery</th>\n",
       "      <th>Rating</th>\n",
       "      <th>Number_Of_Ratings</th>\n",
       "      <th>Price</th>\n",
       "      <th>Year</th>\n",
       "      <th>Wine_Type</th>\n",
       "    </tr>\n",
       "  </thead>\n",
       "  <tbody>\n",
       "    <tr>\n",
       "      <th>0</th>\n",
       "      <td>Pomerol 2011</td>\n",
       "      <td>Pomerol, France</td>\n",
       "      <td>Château La Providence</td>\n",
       "      <td>4.2</td>\n",
       "      <td>100.0</td>\n",
       "      <td>4.553877</td>\n",
       "      <td>2011</td>\n",
       "      <td>red</td>\n",
       "    </tr>\n",
       "    <tr>\n",
       "      <th>1</th>\n",
       "      <td>Lirac 2017</td>\n",
       "      <td>Lirac, France</td>\n",
       "      <td>Château Mont-Redon</td>\n",
       "      <td>4.3</td>\n",
       "      <td>100.0</td>\n",
       "      <td>2.740840</td>\n",
       "      <td>2017</td>\n",
       "      <td>red</td>\n",
       "    </tr>\n",
       "    <tr>\n",
       "      <th>2</th>\n",
       "      <td>Erta e China Rosso di Toscana 2015</td>\n",
       "      <td>Toscana, Italy</td>\n",
       "      <td>Renzo Masi</td>\n",
       "      <td>3.9</td>\n",
       "      <td>100.0</td>\n",
       "      <td>2.008214</td>\n",
       "      <td>2015</td>\n",
       "      <td>red</td>\n",
       "    </tr>\n",
       "  </tbody>\n",
       "</table>\n",
       "</div>"
      ],
      "text/plain": [
       "                                 Name           Region                 Winery  \\\n",
       "0                        Pomerol 2011  Pomerol, France  Château La Providence   \n",
       "1                          Lirac 2017    Lirac, France     Château Mont-Redon   \n",
       "2  Erta e China Rosso di Toscana 2015   Toscana, Italy             Renzo Masi   \n",
       "\n",
       "   Rating  Number_Of_Ratings     Price  Year Wine_Type  \n",
       "0     4.2              100.0  4.553877  2011       red  \n",
       "1     4.3              100.0  2.740840  2017       red  \n",
       "2     3.9              100.0  2.008214  2015       red  "
      ]
     },
     "metadata": {},
     "output_type": "display_data"
    },
    {
     "name": "stdout",
     "output_type": "stream",
     "text": [
      "\n",
      "{'name': 'spotify', 'task': 'classification', 'target_name': 'popularity', 'entity_name': 'track', 'repeated': False}\n"
     ]
    },
    {
     "data": {
      "text/html": [
       "<div>\n",
       "<style scoped>\n",
       "    .dataframe tbody tr th:only-of-type {\n",
       "        vertical-align: middle;\n",
       "    }\n",
       "\n",
       "    .dataframe tbody tr th {\n",
       "        vertical-align: top;\n",
       "    }\n",
       "\n",
       "    .dataframe thead th {\n",
       "        text-align: right;\n",
       "    }\n",
       "</style>\n",
       "<table border=\"1\" class=\"dataframe\">\n",
       "  <thead>\n",
       "    <tr style=\"text-align: right;\">\n",
       "      <th></th>\n",
       "      <th>track</th>\n",
       "      <th>artist</th>\n",
       "      <th>danceability</th>\n",
       "      <th>energy</th>\n",
       "      <th>key</th>\n",
       "      <th>loudness</th>\n",
       "      <th>mode</th>\n",
       "      <th>speechiness</th>\n",
       "      <th>acousticness</th>\n",
       "      <th>instrumentalness</th>\n",
       "      <th>liveness</th>\n",
       "      <th>valence</th>\n",
       "      <th>tempo</th>\n",
       "      <th>duration_ms</th>\n",
       "      <th>time_signature</th>\n",
       "      <th>chorus_hit</th>\n",
       "      <th>sections</th>\n",
       "      <th>popularity</th>\n",
       "      <th>decade</th>\n",
       "    </tr>\n",
       "  </thead>\n",
       "  <tbody>\n",
       "    <tr>\n",
       "      <th>0</th>\n",
       "      <td>Jealous Kind Of Fella</td>\n",
       "      <td>Garland Green</td>\n",
       "      <td>0.417</td>\n",
       "      <td>0.620</td>\n",
       "      <td>3</td>\n",
       "      <td>-7.727</td>\n",
       "      <td>Major</td>\n",
       "      <td>0.0403</td>\n",
       "      <td>0.490</td>\n",
       "      <td>0.000000</td>\n",
       "      <td>0.0779</td>\n",
       "      <td>0.845</td>\n",
       "      <td>185.655</td>\n",
       "      <td>173533.0</td>\n",
       "      <td>3</td>\n",
       "      <td>32.94975</td>\n",
       "      <td>9</td>\n",
       "      <td>1</td>\n",
       "      <td>60s</td>\n",
       "    </tr>\n",
       "    <tr>\n",
       "      <th>1</th>\n",
       "      <td>Initials B.B.</td>\n",
       "      <td>Serge Gainsbourg</td>\n",
       "      <td>0.498</td>\n",
       "      <td>0.505</td>\n",
       "      <td>3</td>\n",
       "      <td>-12.475</td>\n",
       "      <td>Major</td>\n",
       "      <td>0.0337</td>\n",
       "      <td>0.018</td>\n",
       "      <td>0.107000</td>\n",
       "      <td>0.1760</td>\n",
       "      <td>0.797</td>\n",
       "      <td>101.801</td>\n",
       "      <td>213613.0</td>\n",
       "      <td>4</td>\n",
       "      <td>48.82510</td>\n",
       "      <td>10</td>\n",
       "      <td>0</td>\n",
       "      <td>60s</td>\n",
       "    </tr>\n",
       "    <tr>\n",
       "      <th>2</th>\n",
       "      <td>Melody Twist</td>\n",
       "      <td>Lord Melody</td>\n",
       "      <td>0.657</td>\n",
       "      <td>0.649</td>\n",
       "      <td>5</td>\n",
       "      <td>-13.392</td>\n",
       "      <td>Major</td>\n",
       "      <td>0.0380</td>\n",
       "      <td>0.846</td>\n",
       "      <td>0.000004</td>\n",
       "      <td>0.1190</td>\n",
       "      <td>0.908</td>\n",
       "      <td>115.940</td>\n",
       "      <td>223960.0</td>\n",
       "      <td>4</td>\n",
       "      <td>37.22663</td>\n",
       "      <td>12</td>\n",
       "      <td>0</td>\n",
       "      <td>60s</td>\n",
       "    </tr>\n",
       "  </tbody>\n",
       "</table>\n",
       "</div>"
      ],
      "text/plain": [
       "                   track            artist  danceability  energy key  \\\n",
       "0  Jealous Kind Of Fella     Garland Green         0.417   0.620   3   \n",
       "1          Initials B.B.  Serge Gainsbourg         0.498   0.505   3   \n",
       "2           Melody Twist       Lord Melody         0.657   0.649   5   \n",
       "\n",
       "   loudness   mode  speechiness  acousticness  instrumentalness  liveness  \\\n",
       "0    -7.727  Major       0.0403         0.490          0.000000    0.0779   \n",
       "1   -12.475  Major       0.0337         0.018          0.107000    0.1760   \n",
       "2   -13.392  Major       0.0380         0.846          0.000004    0.1190   \n",
       "\n",
       "   valence    tempo  duration_ms time_signature  chorus_hit sections  \\\n",
       "0    0.845  185.655     173533.0              3    32.94975        9   \n",
       "1    0.797  101.801     213613.0              4    48.82510       10   \n",
       "2    0.908  115.940     223960.0              4    37.22663       12   \n",
       "\n",
       "   popularity decade  \n",
       "0           1    60s  \n",
       "1           0    60s  \n",
       "2           0    60s  "
      ]
     },
     "metadata": {},
     "output_type": "display_data"
    },
    {
     "name": "stdout",
     "output_type": "stream",
     "text": [
      "\n"
     ]
    }
   ],
   "source": [
    "ROOT_DIR = os.path.join(os.path.dirname(os.getcwd()), \"tabeb\")\n",
    "data_dir = os.path.join(ROOT_DIR, \"data\")\n",
    "data_name = \"wine_pl\"\n",
    "\n",
    "data_dict = {}\n",
    "data_dict['wine_pl'] = load_data_tmp(\"wine_pl\", data_dir)\n",
    "data_dict['wine_vivino_price'] = load_data_tmp(\"wine_vivino_price\", data_dir)\n",
    "data_dict['spotify'] = load_data_tmp(\"spotify\", data_dir)\n",
    "for name, (df_data, data_metadata) in data_dict.items():\n",
    "    print(data_metadata)\n",
    "    display(df_data.head(3))\n",
    "    print()"
   ]
  },
  {
   "cell_type": "markdown",
   "metadata": {},
   "source": [
    "# Main"
   ]
  },
  {
   "cell_type": "markdown",
   "metadata": {},
   "source": [
    "## Encoders"
   ]
  },
  {
   "cell_type": "code",
   "execution_count": 4,
   "metadata": {},
   "outputs": [],
   "source": [
    "import os\n",
    "ROOT_DIR = os.path.join(os.path.dirname(os.getcwd()), \"tabeb\") # ROOT_DIR should point to \"<prefix>/tabeb/tabeb\"\n",
    "data_dir = os.path.join(ROOT_DIR, \"data\") # data_dir should point to \"<prefix>/tabeb/tabeb/data\""
   ]
  },
  {
   "cell_type": "markdown",
   "metadata": {},
   "source": [
    "Currently, there are 3 models available"
   ]
  },
  {
   "cell_type": "code",
   "execution_count": 5,
   "metadata": {},
   "outputs": [
    {
     "name": "stderr",
     "output_type": "stream",
     "text": [
      "/home/dnguyenwsl/codes/tabeb/.venv/lib/python3.11/site-packages/tqdm/auto.py:21: TqdmWarning: IProgress not found. Please update jupyter and ipywidgets. See https://ipywidgets.readthedocs.io/en/stable/user_install.html\n",
      "  from .autonotebook import tqdm as notebook_tqdm\n"
     ]
    }
   ],
   "source": [
    "random_encoder = get_model(\"random_encoder\")\n",
    "carte_encoder = get_model(\"carte_encoder\", task=\"regression\")\n",
    "skrub_encoder = get_model(\"skrub_encoder\")"
   ]
  },
  {
   "cell_type": "markdown",
   "metadata": {},
   "source": [
    "Let's test the encoders"
   ]
  },
  {
   "cell_type": "code",
   "execution_count": 6,
   "metadata": {},
   "outputs": [],
   "source": [
    "# Get train/test splits for the wine_vivino_price dataset\n",
    "X_train, X_test, y_train, y_test = get_splits(data_dict['wine_vivino_price'][0], data_dict['wine_vivino_price'][1])"
   ]
  },
  {
   "cell_type": "code",
   "execution_count": 7,
   "metadata": {},
   "outputs": [
    {
     "name": "stderr",
     "output_type": "stream",
     "text": [
      "/home/dnguyenwsl/codes/tabeb/.venv/lib/python3.11/site-packages/carte_ai/src/carte_estimator.py:386: FutureWarning: You are using `torch.load` with `weights_only=False` (the current default value), which uses the default pickle module implicitly. It is possible to construct malicious pickle data which will execute arbitrary code during unpickling (See https://github.com/pytorch/pytorch/blob/main/SECURITY.md#untrusted-models for more details). In a future release, the default value for `weights_only` will be flipped to `True`. This limits the functions that could be executed during unpickling. Arbitrary objects will no longer be allowed to be loaded via this mode unless they are explicitly allowlisted by the user via `torch.serialization.add_safe_globals`. We recommend you start setting `weights_only=True` for any use case where you don't have full control of the loaded file. Please open an issue on GitHub for any issues related to this experimental feature.\n",
      "  pretrain_model_dict = torch.load(\n",
      "/home/dnguyenwsl/codes/tabeb/.venv/lib/python3.11/site-packages/carte_ai/src/carte_estimator.py:140: FutureWarning: `torch.cuda.amp.GradScaler(args...)` is deprecated. Please use `torch.amp.GradScaler('cuda', args...)` instead.\n",
      "  scaler = amp.GradScaler()\n",
      "/home/dnguyenwsl/codes/tabeb/.venv/lib/python3.11/site-packages/torch/amp/grad_scaler.py:132: UserWarning: torch.cuda.amp.GradScaler is enabled, but CUDA is not available.  Disabling.\n",
      "  warnings.warn(\n",
      "Model No. xx:   0%|          | 0/500 [00:00<?, ?it/s]/home/dnguyenwsl/codes/tabeb/.venv/lib/python3.11/site-packages/carte_ai/src/carte_estimator.py:182: FutureWarning: `torch.cuda.amp.autocast(args...)` is deprecated. Please use `torch.amp.autocast('cuda', args...)` instead.\n",
      "  with amp.autocast():  # Enable autocasting\n",
      "/home/dnguyenwsl/codes/tabeb/.venv/lib/python3.11/site-packages/torch/amp/autocast_mode.py:266: UserWarning: User provided device_type of 'cuda', but CUDA is not available. Disabling\n",
      "  warnings.warn(\n",
      "/home/dnguyenwsl/codes/tabeb/.venv/lib/python3.11/site-packages/carte_ai/src/carte_estimator.py:203: FutureWarning: `torch.cuda.amp.autocast(args...)` is deprecated. Please use `torch.amp.autocast('cuda', args...)` instead.\n",
      "  with amp.autocast():  # Enable autocasting\n",
      "Model No. xx:   9%|▉         | 46/500 [00:02<00:23, 19.47it/s]\n"
     ]
    },
    {
     "name": "stdout",
     "output_type": "stream",
     "text": [
      "Random embedding shape: (16, 128)\n",
      "Carte embedding shape: (16, 75)\n",
      "Skrub embedding shape: (16, 61)\n"
     ]
    }
   ],
   "source": [
    "random_embedding = random_encoder.fit_transform(X_train, y_train)\n",
    "carte_embedding = carte_encoder.fit_transform(X_train, y_train)\n",
    "skrub_embedding = skrub_encoder.fit_transform(X_train, y_train)\n",
    "print(f\"Random embedding shape: {random_embedding.shape}\")\n",
    "print(f\"Carte embedding shape: {carte_embedding.shape}\")\n",
    "print(f\"Skrub embedding shape: {skrub_embedding.shape}\")"
   ]
  },
  {
   "cell_type": "markdown",
   "metadata": {},
   "source": [
    "## Tasks\n",
    "\n",
    "To perform a task (e.g. regression, classification) in TabEB, first we get the corresponding TabEBBaseTask object: "
   ]
  },
  {
   "cell_type": "code",
   "execution_count": 8,
   "metadata": {},
   "outputs": [],
   "source": [
    "task_regression = TabEBRegressionTask(data_dir=data_dir)\n",
    "task_classification = TabEBClassificationTask(data_dir=data_dir)"
   ]
  },
  {
   "cell_type": "markdown",
   "metadata": {},
   "source": [
    "These objects contains what are nessesary to run the task:\n",
    "\n",
    "- The datasets\n",
    "- The evaluation protocol"
   ]
  },
  {
   "cell_type": "markdown",
   "metadata": {},
   "source": [
    "Let's run the evaluations\n",
    "\n",
    "!Attention: in this version, for demonstration purposes, TabEB (implicitly) limits the number of observations for each dataset at 500. The results show below are hence meaningless."
   ]
  },
  {
   "cell_type": "code",
   "execution_count": 9,
   "metadata": {},
   "outputs": [
    {
     "name": "stderr",
     "output_type": "stream",
     "text": [
      "/home/dnguyenwsl/codes/tabeb/.venv/lib/python3.11/site-packages/carte_ai/src/carte_estimator.py:386: FutureWarning: You are using `torch.load` with `weights_only=False` (the current default value), which uses the default pickle module implicitly. It is possible to construct malicious pickle data which will execute arbitrary code during unpickling (See https://github.com/pytorch/pytorch/blob/main/SECURITY.md#untrusted-models for more details). In a future release, the default value for `weights_only` will be flipped to `True`. This limits the functions that could be executed during unpickling. Arbitrary objects will no longer be allowed to be loaded via this mode unless they are explicitly allowlisted by the user via `torch.serialization.add_safe_globals`. We recommend you start setting `weights_only=True` for any use case where you don't have full control of the loaded file. Please open an issue on GitHub for any issues related to this experimental feature.\n",
      "  pretrain_model_dict = torch.load(\n",
      "/home/dnguyenwsl/codes/tabeb/.venv/lib/python3.11/site-packages/carte_ai/src/carte_estimator.py:140: FutureWarning: `torch.cuda.amp.GradScaler(args...)` is deprecated. Please use `torch.amp.GradScaler('cuda', args...)` instead.\n",
      "  scaler = amp.GradScaler()\n",
      "/home/dnguyenwsl/codes/tabeb/.venv/lib/python3.11/site-packages/torch/amp/grad_scaler.py:132: UserWarning: torch.cuda.amp.GradScaler is enabled, but CUDA is not available.  Disabling.\n",
      "  warnings.warn(\n",
      "Model No. xx:   0%|          | 0/500 [00:00<?, ?it/s]/home/dnguyenwsl/codes/tabeb/.venv/lib/python3.11/site-packages/carte_ai/src/carte_estimator.py:182: FutureWarning: `torch.cuda.amp.autocast(args...)` is deprecated. Please use `torch.amp.autocast('cuda', args...)` instead.\n",
      "  with amp.autocast():  # Enable autocasting\n",
      "/home/dnguyenwsl/codes/tabeb/.venv/lib/python3.11/site-packages/torch/amp/autocast_mode.py:266: UserWarning: User provided device_type of 'cuda', but CUDA is not available. Disabling\n",
      "  warnings.warn(\n",
      "/home/dnguyenwsl/codes/tabeb/.venv/lib/python3.11/site-packages/carte_ai/src/carte_estimator.py:203: FutureWarning: `torch.cuda.amp.autocast(args...)` is deprecated. Please use `torch.amp.autocast('cuda', args...)` instead.\n",
      "  with amp.autocast():  # Enable autocasting\n",
      "Model No. xx:  10%|█         | 52/500 [00:01<00:13, 32.74it/s]\n",
      "/home/dnguyenwsl/codes/tabeb/.venv/lib/python3.11/site-packages/carte_ai/src/carte_estimator.py:386: FutureWarning: You are using `torch.load` with `weights_only=False` (the current default value), which uses the default pickle module implicitly. It is possible to construct malicious pickle data which will execute arbitrary code during unpickling (See https://github.com/pytorch/pytorch/blob/main/SECURITY.md#untrusted-models for more details). In a future release, the default value for `weights_only` will be flipped to `True`. This limits the functions that could be executed during unpickling. Arbitrary objects will no longer be allowed to be loaded via this mode unless they are explicitly allowlisted by the user via `torch.serialization.add_safe_globals`. We recommend you start setting `weights_only=True` for any use case where you don't have full control of the loaded file. Please open an issue on GitHub for any issues related to this experimental feature.\n",
      "  pretrain_model_dict = torch.load(\n",
      "/home/dnguyenwsl/codes/tabeb/.venv/lib/python3.11/site-packages/carte_ai/src/carte_estimator.py:140: FutureWarning: `torch.cuda.amp.GradScaler(args...)` is deprecated. Please use `torch.amp.GradScaler('cuda', args...)` instead.\n",
      "  scaler = amp.GradScaler()\n",
      "/home/dnguyenwsl/codes/tabeb/.venv/lib/python3.11/site-packages/torch/amp/grad_scaler.py:132: UserWarning: torch.cuda.amp.GradScaler is enabled, but CUDA is not available.  Disabling.\n",
      "  warnings.warn(\n",
      "Model No. xx:   0%|          | 0/500 [00:00<?, ?it/s]/home/dnguyenwsl/codes/tabeb/.venv/lib/python3.11/site-packages/carte_ai/src/carte_estimator.py:182: FutureWarning: `torch.cuda.amp.autocast(args...)` is deprecated. Please use `torch.amp.autocast('cuda', args...)` instead.\n",
      "  with amp.autocast():  # Enable autocasting\n",
      "/home/dnguyenwsl/codes/tabeb/.venv/lib/python3.11/site-packages/torch/amp/autocast_mode.py:266: UserWarning: User provided device_type of 'cuda', but CUDA is not available. Disabling\n",
      "  warnings.warn(\n",
      "/home/dnguyenwsl/codes/tabeb/.venv/lib/python3.11/site-packages/carte_ai/src/carte_estimator.py:203: FutureWarning: `torch.cuda.amp.autocast(args...)` is deprecated. Please use `torch.amp.autocast('cuda', args...)` instead.\n",
      "  with amp.autocast():  # Enable autocasting\n",
      "Model No. xx:  21%|██        | 104/500 [00:02<00:08, 47.89it/s]\n",
      "/home/dnguyenwsl/codes/tabeb/.venv/lib/python3.11/site-packages/sklearn/preprocessing/_encoders.py:246: UserWarning: Found unknown categories in columns [0] during transform. These unknown categories will be encoded as all zeros\n",
      "  warnings.warn(\n",
      "/home/dnguyenwsl/codes/tabeb/.venv/lib/python3.11/site-packages/sklearn/preprocessing/_encoders.py:246: UserWarning: Found unknown categories in columns [0] during transform. These unknown categories will be encoded as all zeros\n",
      "  warnings.warn(\n",
      "/home/dnguyenwsl/codes/tabeb/.venv/lib/python3.11/site-packages/sklearn/preprocessing/_encoders.py:246: UserWarning: Found unknown categories in columns [0] during transform. These unknown categories will be encoded as all zeros\n",
      "  warnings.warn(\n",
      "/home/dnguyenwsl/codes/tabeb/.venv/lib/python3.11/site-packages/sklearn/preprocessing/_encoders.py:246: UserWarning: Found unknown categories in columns [0] during transform. These unknown categories will be encoded as all zeros\n",
      "  warnings.warn(\n",
      "/home/dnguyenwsl/codes/tabeb/.venv/lib/python3.11/site-packages/sklearn/preprocessing/_encoders.py:246: UserWarning: Found unknown categories in columns [0] during transform. These unknown categories will be encoded as all zeros\n",
      "  warnings.warn(\n",
      "/home/dnguyenwsl/codes/tabeb/.venv/lib/python3.11/site-packages/sklearn/preprocessing/_encoders.py:246: UserWarning: Found unknown categories in columns [0] during transform. These unknown categories will be encoded as all zeros\n",
      "  warnings.warn(\n",
      "/home/dnguyenwsl/codes/tabeb/.venv/lib/python3.11/site-packages/sklearn/preprocessing/_encoders.py:246: UserWarning: Found unknown categories in columns [0] during transform. These unknown categories will be encoded as all zeros\n",
      "  warnings.warn(\n",
      "/home/dnguyenwsl/codes/tabeb/.venv/lib/python3.11/site-packages/sklearn/preprocessing/_encoders.py:246: UserWarning: Found unknown categories in columns [0] during transform. These unknown categories will be encoded as all zeros\n",
      "  warnings.warn(\n",
      "/home/dnguyenwsl/codes/tabeb/.venv/lib/python3.11/site-packages/sklearn/preprocessing/_encoders.py:246: UserWarning: Found unknown categories in columns [0] during transform. These unknown categories will be encoded as all zeros\n",
      "  warnings.warn(\n",
      "/home/dnguyenwsl/codes/tabeb/.venv/lib/python3.11/site-packages/sklearn/preprocessing/_encoders.py:246: UserWarning: Found unknown categories in columns [0] during transform. These unknown categories will be encoded as all zeros\n",
      "  warnings.warn(\n",
      "/home/dnguyenwsl/codes/tabeb/.venv/lib/python3.11/site-packages/sklearn/preprocessing/_encoders.py:246: UserWarning: Found unknown categories in columns [0] during transform. These unknown categories will be encoded as all zeros\n",
      "  warnings.warn(\n",
      "/home/dnguyenwsl/codes/tabeb/.venv/lib/python3.11/site-packages/sklearn/preprocessing/_encoders.py:246: UserWarning: Found unknown categories in columns [0] during transform. These unknown categories will be encoded as all zeros\n",
      "  warnings.warn(\n",
      "/home/dnguyenwsl/codes/tabeb/.venv/lib/python3.11/site-packages/carte_ai/src/carte_estimator.py:386: FutureWarning: You are using `torch.load` with `weights_only=False` (the current default value), which uses the default pickle module implicitly. It is possible to construct malicious pickle data which will execute arbitrary code during unpickling (See https://github.com/pytorch/pytorch/blob/main/SECURITY.md#untrusted-models for more details). In a future release, the default value for `weights_only` will be flipped to `True`. This limits the functions that could be executed during unpickling. Arbitrary objects will no longer be allowed to be loaded via this mode unless they are explicitly allowlisted by the user via `torch.serialization.add_safe_globals`. We recommend you start setting `weights_only=True` for any use case where you don't have full control of the loaded file. Please open an issue on GitHub for any issues related to this experimental feature.\n",
      "  pretrain_model_dict = torch.load(\n",
      "/home/dnguyenwsl/codes/tabeb/.venv/lib/python3.11/site-packages/carte_ai/src/carte_estimator.py:140: FutureWarning: `torch.cuda.amp.GradScaler(args...)` is deprecated. Please use `torch.amp.GradScaler('cuda', args...)` instead.\n",
      "  scaler = amp.GradScaler()\n",
      "/home/dnguyenwsl/codes/tabeb/.venv/lib/python3.11/site-packages/torch/amp/grad_scaler.py:132: UserWarning: torch.cuda.amp.GradScaler is enabled, but CUDA is not available.  Disabling.\n",
      "  warnings.warn(\n",
      "Model No. xx:   0%|          | 0/500 [00:00<?, ?it/s]/home/dnguyenwsl/codes/tabeb/.venv/lib/python3.11/site-packages/carte_ai/src/carte_estimator.py:182: FutureWarning: `torch.cuda.amp.autocast(args...)` is deprecated. Please use `torch.amp.autocast('cuda', args...)` instead.\n",
      "  with amp.autocast():  # Enable autocasting\n",
      "/home/dnguyenwsl/codes/tabeb/.venv/lib/python3.11/site-packages/torch/amp/autocast_mode.py:266: UserWarning: User provided device_type of 'cuda', but CUDA is not available. Disabling\n",
      "  warnings.warn(\n",
      "/home/dnguyenwsl/codes/tabeb/.venv/lib/python3.11/site-packages/carte_ai/src/carte_estimator.py:203: FutureWarning: `torch.cuda.amp.autocast(args...)` is deprecated. Please use `torch.amp.autocast('cuda', args...)` instead.\n",
      "  with amp.autocast():  # Enable autocasting\n",
      "Model No. xx:   9%|▉         | 47/500 [00:01<00:13, 32.83it/s]\n",
      "/home/dnguyenwsl/codes/tabeb/.venv/lib/python3.11/site-packages/sklearn/preprocessing/_encoders.py:246: UserWarning: Found unknown categories in columns [0] during transform. These unknown categories will be encoded as all zeros\n",
      "  warnings.warn(\n",
      "/home/dnguyenwsl/codes/tabeb/.venv/lib/python3.11/site-packages/sklearn/preprocessing/_encoders.py:246: UserWarning: Found unknown categories in columns [0] during transform. These unknown categories will be encoded as all zeros\n",
      "  warnings.warn(\n",
      "/home/dnguyenwsl/codes/tabeb/.venv/lib/python3.11/site-packages/sklearn/linear_model/_logistic.py:465: ConvergenceWarning: lbfgs failed to converge (status=1):\n",
      "STOP: TOTAL NO. of ITERATIONS REACHED LIMIT.\n",
      "\n",
      "Increase the number of iterations (max_iter) or scale the data as shown in:\n",
      "    https://scikit-learn.org/stable/modules/preprocessing.html\n",
      "Please also refer to the documentation for alternative solver options:\n",
      "    https://scikit-learn.org/stable/modules/linear_model.html#logistic-regression\n",
      "  n_iter_i = _check_optimize_result(\n"
     ]
    }
   ],
   "source": [
    "model_list = [random_encoder, carte_encoder, skrub_encoder]\n",
    "result_dir = os.path.join(ROOT_DIR, \"results\")\n",
    "df_regression_scores = task_regression.evaluate(model_list, save_dir=result_dir)\n",
    "df_classification_scores = task_classification.evaluate(model_list, save_dir=result_dir)"
   ]
  },
  {
   "cell_type": "code",
   "execution_count": 10,
   "metadata": {},
   "outputs": [
    {
     "name": "stdout",
     "output_type": "stream",
     "text": [
      "****Regresion Task****\n"
     ]
    },
    {
     "data": {
      "text/html": [
       "<div>\n",
       "<style scoped>\n",
       "    .dataframe tbody tr th:only-of-type {\n",
       "        vertical-align: middle;\n",
       "    }\n",
       "\n",
       "    .dataframe tbody tr th {\n",
       "        vertical-align: top;\n",
       "    }\n",
       "\n",
       "    .dataframe thead th {\n",
       "        text-align: right;\n",
       "    }\n",
       "</style>\n",
       "<table border=\"1\" class=\"dataframe\">\n",
       "  <thead>\n",
       "    <tr style=\"text-align: right;\">\n",
       "      <th></th>\n",
       "      <th>encoder</th>\n",
       "      <th>wine_pl</th>\n",
       "      <th>wine_vivino_price</th>\n",
       "      <th>regression_average</th>\n",
       "    </tr>\n",
       "  </thead>\n",
       "  <tbody>\n",
       "    <tr>\n",
       "      <th>0</th>\n",
       "      <td>random_encoder</td>\n",
       "      <td>0.403011</td>\n",
       "      <td>0.984584</td>\n",
       "      <td>0.693798</td>\n",
       "    </tr>\n",
       "    <tr>\n",
       "      <th>1</th>\n",
       "      <td>carte_encoder</td>\n",
       "      <td>0.618307</td>\n",
       "      <td>1.430602</td>\n",
       "      <td>1.024455</td>\n",
       "    </tr>\n",
       "    <tr>\n",
       "      <th>2</th>\n",
       "      <td>skrub_encoder</td>\n",
       "      <td>1.888127</td>\n",
       "      <td>1.726246</td>\n",
       "      <td>1.807186</td>\n",
       "    </tr>\n",
       "  </tbody>\n",
       "</table>\n",
       "</div>"
      ],
      "text/plain": [
       "          encoder   wine_pl  wine_vivino_price  regression_average\n",
       "0  random_encoder  0.403011           0.984584            0.693798\n",
       "1   carte_encoder  0.618307           1.430602            1.024455\n",
       "2   skrub_encoder  1.888127           1.726246            1.807186"
      ]
     },
     "metadata": {},
     "output_type": "display_data"
    },
    {
     "name": "stdout",
     "output_type": "stream",
     "text": [
      "****Classification Task****\n"
     ]
    },
    {
     "data": {
      "text/html": [
       "<div>\n",
       "<style scoped>\n",
       "    .dataframe tbody tr th:only-of-type {\n",
       "        vertical-align: middle;\n",
       "    }\n",
       "\n",
       "    .dataframe tbody tr th {\n",
       "        vertical-align: top;\n",
       "    }\n",
       "\n",
       "    .dataframe thead th {\n",
       "        text-align: right;\n",
       "    }\n",
       "</style>\n",
       "<table border=\"1\" class=\"dataframe\">\n",
       "  <thead>\n",
       "    <tr style=\"text-align: right;\">\n",
       "      <th></th>\n",
       "      <th>encoder</th>\n",
       "      <th>spotify</th>\n",
       "      <th>classification_average</th>\n",
       "    </tr>\n",
       "  </thead>\n",
       "  <tbody>\n",
       "    <tr>\n",
       "      <th>0</th>\n",
       "      <td>random_encoder</td>\n",
       "      <td>0.490325</td>\n",
       "      <td>0.490325</td>\n",
       "    </tr>\n",
       "    <tr>\n",
       "      <th>1</th>\n",
       "      <td>carte_encoder</td>\n",
       "      <td>0.557282</td>\n",
       "      <td>0.557282</td>\n",
       "    </tr>\n",
       "    <tr>\n",
       "      <th>2</th>\n",
       "      <td>skrub_encoder</td>\n",
       "      <td>0.564957</td>\n",
       "      <td>0.564957</td>\n",
       "    </tr>\n",
       "  </tbody>\n",
       "</table>\n",
       "</div>"
      ],
      "text/plain": [
       "          encoder   spotify  classification_average\n",
       "0  random_encoder  0.490325                0.490325\n",
       "1   carte_encoder  0.557282                0.557282\n",
       "2   skrub_encoder  0.564957                0.564957"
      ]
     },
     "metadata": {},
     "output_type": "display_data"
    }
   ],
   "source": [
    "print(\"****Regresion Task****\")\n",
    "display(df_regression_scores)\n",
    "print(\"****Classification Task****\")\n",
    "display(df_classification_scores)"
   ]
  },
  {
   "cell_type": "markdown",
   "metadata": {},
   "source": [
    "## Leaderboard"
   ]
  },
  {
   "cell_type": "code",
   "execution_count": 11,
   "metadata": {},
   "outputs": [
    {
     "data": {
      "text/html": [
       "<div>\n",
       "<style scoped>\n",
       "    .dataframe tbody tr th:only-of-type {\n",
       "        vertical-align: middle;\n",
       "    }\n",
       "\n",
       "    .dataframe tbody tr th {\n",
       "        vertical-align: top;\n",
       "    }\n",
       "\n",
       "    .dataframe thead th {\n",
       "        text-align: right;\n",
       "    }\n",
       "</style>\n",
       "<table border=\"1\" class=\"dataframe\">\n",
       "  <thead>\n",
       "    <tr style=\"text-align: right;\">\n",
       "      <th></th>\n",
       "      <th>encoder</th>\n",
       "      <th>regression_average</th>\n",
       "      <th>classification_average</th>\n",
       "    </tr>\n",
       "  </thead>\n",
       "  <tbody>\n",
       "    <tr>\n",
       "      <th>0</th>\n",
       "      <td>carte_encoder</td>\n",
       "      <td>1.024455</td>\n",
       "      <td>0.557282</td>\n",
       "    </tr>\n",
       "    <tr>\n",
       "      <th>1</th>\n",
       "      <td>random_encoder</td>\n",
       "      <td>0.693798</td>\n",
       "      <td>0.490325</td>\n",
       "    </tr>\n",
       "    <tr>\n",
       "      <th>2</th>\n",
       "      <td>skrub_encoder</td>\n",
       "      <td>1.807186</td>\n",
       "      <td>0.564957</td>\n",
       "    </tr>\n",
       "  </tbody>\n",
       "</table>\n",
       "</div>"
      ],
      "text/plain": [
       "          encoder  regression_average  classification_average\n",
       "0   carte_encoder            1.024455                0.557282\n",
       "1  random_encoder            0.693798                0.490325\n",
       "2   skrub_encoder            1.807186                0.564957"
      ]
     },
     "metadata": {},
     "output_type": "display_data"
    }
   ],
   "source": [
    "df_leaderboard = get_leaderboard([\"regression\", \"classification\"], result_dir)\n",
    "display(df_leaderboard)"
   ]
  }
 ],
 "metadata": {
  "kernelspec": {
   "display_name": ".venv",
   "language": "python",
   "name": "python3"
  },
  "language_info": {
   "codemirror_mode": {
    "name": "ipython",
    "version": 3
   },
   "file_extension": ".py",
   "mimetype": "text/x-python",
   "name": "python",
   "nbconvert_exporter": "python",
   "pygments_lexer": "ipython3",
   "version": "3.11.11"
  }
 },
 "nbformat": 4,
 "nbformat_minor": 2
}
